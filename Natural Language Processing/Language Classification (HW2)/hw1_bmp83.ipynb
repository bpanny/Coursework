{
 "cells": [
  {
   "cell_type": "markdown",
   "metadata": {},
   "source": [
    "# Part 2, The Politeness Dataset"
   ]
  },
  {
   "cell_type": "code",
   "execution_count": 105,
   "metadata": {},
   "outputs": [],
   "source": [
    "import pandas as pd\n",
    "import numpy as np\n",
    "from sklearn.feature_extraction.text import CountVectorizer, TfidfVectorizer\n",
    "from sklearn.model_selection import GridSearchCV\n",
    "import nltk\n",
    "from sklearn.linear_model import LogisticRegression\n",
    "from sklearn.neural_network import MLPClassifier\n",
    "from sklearn.metrics import accuracy_score, make_scorer, precision_score, recall_score, f1_score\n",
    "from sklearn.model_selection import cross_validate\n",
    "from sklearn.pipeline import Pipeline\n",
    "from sklearn.metrics import confusion_matrix\n",
    "from sklearn import metrics\n",
    "import matplotlib.pyplot as plt\n",
    "import seaborn as sns\n",
    "from gensim.models import Word2Vec"
   ]
  },
  {
   "cell_type": "code",
   "execution_count": 83,
   "metadata": {},
   "outputs": [
    {
     "name": "stderr",
     "output_type": "stream",
     "text": [
      "[nltk_data] Downloading package punkt to\n",
      "[nltk_data]     C:\\Users\\benja\\AppData\\Roaming\\nltk_data...\n",
      "[nltk_data]   Package punkt is already up-to-date!\n",
      "[nltk_data] Downloading package stopwords to\n",
      "[nltk_data]     C:\\Users\\benja\\AppData\\Roaming\\nltk_data...\n",
      "[nltk_data]   Package stopwords is already up-to-date!\n"
     ]
    },
    {
     "data": {
      "text/plain": [
       "True"
      ]
     },
     "execution_count": 83,
     "metadata": {},
     "output_type": "execute_result"
    }
   ],
   "source": [
    "nltk.download('punkt') # this is needed to use NLTK's `word_tokenize` function\n",
    "nltk.download('stopwords')"
   ]
  },
  {
   "cell_type": "code",
   "execution_count": 84,
   "metadata": {},
   "outputs": [],
   "source": [
    "polite = pd.read_csv('politeness_data.csv')"
   ]
  },
  {
   "cell_type": "code",
   "execution_count": 85,
   "metadata": {},
   "outputs": [
    {
     "data": {
      "text/plain": [
       "<bound method NDFrame.head of           id                                               text  polite\n",
       "0       1331  Try to add an `import pycuda` line at the top ...       1\n",
       "1     196858  Hello, our project has begun to fall a little ...       1\n",
       "2      25622  Picking up your challenge. You a big fan of sk...       0\n",
       "3       4161  @Herbert: Still I think your answer is very co...       1\n",
       "4     526013  Thanks for continuing to look over the article...       1\n",
       "...      ...                                                ...     ...\n",
       "4927    6485  You never mentioned how far it is to work? How...       0\n",
       "4928    3637  Why are the results bad? Can you elaborate on ...       0\n",
       "4929     765  Thank you, after some experimenting, this seem...       1\n",
       "4930     991  Why are you using that in the first place? Why...       0\n",
       "4931    6458  Why on earth would that make for bad chicken s...       0\n",
       "\n",
       "[4932 rows x 3 columns]>"
      ]
     },
     "execution_count": 85,
     "metadata": {},
     "output_type": "execute_result"
    }
   ],
   "source": [
    "polite.head"
   ]
  },
  {
   "cell_type": "code",
   "execution_count": 86,
   "metadata": {},
   "outputs": [],
   "source": [
    "x=polite.text\n",
    "y=polite.polite"
   ]
  },
  {
   "cell_type": "markdown",
   "metadata": {},
   "source": [
    "## Logistic Regression"
   ]
  },
  {
   "cell_type": "code",
   "execution_count": 87,
   "metadata": {},
   "outputs": [],
   "source": [
    "scoring = {\n",
    "    'accuracy': make_scorer(accuracy_score),\n",
    "    'precision': make_scorer(precision_score),\n",
    "    'recall': make_scorer(recall_score),\n",
    "    'f1_score': make_scorer(f1_score)\n",
    "}"
   ]
  },
  {
   "cell_type": "code",
   "execution_count": 88,
   "metadata": {},
   "outputs": [],
   "source": [
    "pipe_bow = Pipeline([('vec',CountVectorizer()),\n",
    "                     ('lr', LogisticRegression(C = 1, penalty='l2',solver='saga',max_iter=1000))])"
   ]
  },
  {
   "cell_type": "code",
   "execution_count": 89,
   "metadata": {},
   "outputs": [],
   "source": [
    "pipe_tfidf = Pipeline([('vec',TfidfVectorizer()), \n",
    "                       ('lr', LogisticRegression(C = 1, penalty='l2',solver='saga',max_iter=1000))])\n",
    "pipe_binary = Pipeline([('vec',CountVectorizer(binary=True)), \n",
    "                       ('lr', LogisticRegression(C = 1, penalty='l2',solver='saga',max_iter=1000))])"
   ]
  },
  {
   "cell_type": "code",
   "execution_count": 90,
   "metadata": {},
   "outputs": [],
   "source": [
    "cv_bow = cross_validate(pipe_bow, x, y, cv=5, scoring = scoring)\n",
    "cv_tfidf = cross_validate(pipe_tfidf, x, y, cv=5, scoring = scoring)\n",
    "cv_binary = cross_validate(pipe_binary, x, y, cv=5, scoring = scoring)"
   ]
  },
  {
   "cell_type": "code",
   "execution_count": 91,
   "metadata": {},
   "outputs": [
    {
     "data": {
      "text/html": [
       "<div>\n",
       "<style scoped>\n",
       "    .dataframe tbody tr th:only-of-type {\n",
       "        vertical-align: middle;\n",
       "    }\n",
       "\n",
       "    .dataframe tbody tr th {\n",
       "        vertical-align: top;\n",
       "    }\n",
       "\n",
       "    .dataframe thead th {\n",
       "        text-align: right;\n",
       "    }\n",
       "</style>\n",
       "<table border=\"1\" class=\"dataframe\">\n",
       "  <thead>\n",
       "    <tr style=\"text-align: right;\">\n",
       "      <th></th>\n",
       "      <th>fit_time</th>\n",
       "      <th>score_time</th>\n",
       "      <th>test_accuracy</th>\n",
       "      <th>test_precision</th>\n",
       "      <th>test_recall</th>\n",
       "      <th>test_f1_score</th>\n",
       "    </tr>\n",
       "    <tr>\n",
       "      <th>model</th>\n",
       "      <th></th>\n",
       "      <th></th>\n",
       "      <th></th>\n",
       "      <th></th>\n",
       "      <th></th>\n",
       "      <th></th>\n",
       "    </tr>\n",
       "  </thead>\n",
       "  <tbody>\n",
       "    <tr>\n",
       "      <th>binary</th>\n",
       "      <td>0.326193</td>\n",
       "      <td>0.023488</td>\n",
       "      <td>0.701542</td>\n",
       "      <td>0.703966</td>\n",
       "      <td>0.695873</td>\n",
       "      <td>0.699767</td>\n",
       "    </tr>\n",
       "    <tr>\n",
       "      <th>bow</th>\n",
       "      <td>0.627263</td>\n",
       "      <td>0.022621</td>\n",
       "      <td>0.696880</td>\n",
       "      <td>0.699391</td>\n",
       "      <td>0.691004</td>\n",
       "      <td>0.695107</td>\n",
       "    </tr>\n",
       "    <tr>\n",
       "      <th>tfidf</th>\n",
       "      <td>0.101053</td>\n",
       "      <td>0.021685</td>\n",
       "      <td>0.710667</td>\n",
       "      <td>0.704289</td>\n",
       "      <td>0.727091</td>\n",
       "      <td>0.715381</td>\n",
       "    </tr>\n",
       "  </tbody>\n",
       "</table>\n",
       "</div>"
      ],
      "text/plain": [
       "        fit_time  score_time  test_accuracy  test_precision  test_recall  \\\n",
       "model                                                                      \n",
       "binary  0.326193    0.023488       0.701542        0.703966     0.695873   \n",
       "bow     0.627263    0.022621       0.696880        0.699391     0.691004   \n",
       "tfidf   0.101053    0.021685       0.710667        0.704289     0.727091   \n",
       "\n",
       "        test_f1_score  \n",
       "model                  \n",
       "binary       0.699767  \n",
       "bow          0.695107  \n",
       "tfidf        0.715381  "
      ]
     },
     "execution_count": 91,
     "metadata": {},
     "output_type": "execute_result"
    }
   ],
   "source": [
    "lr_models = pd.concat([pd.DataFrame(cv_bow), pd.DataFrame(cv_tfidf), pd.DataFrame(cv_binary)])\n",
    "lr_models['model'] = np.repeat(['bow','tfidf','binary'], 5)\n",
    "lr_models.groupby('model').mean()"
   ]
  },
  {
   "cell_type": "markdown",
   "metadata": {},
   "source": [
    "For each feature or change in input text processing:\n",
    "Describe your motivation for including the feature\n",
    "Discussion of results: Did it improve performance or not? (Either result is fine. It is not necessary to beat logistic regression with unigram features.)"
   ]
  },
  {
   "cell_type": "markdown",
   "metadata": {},
   "source": [
    "My models are as follows:\n",
    "\n",
    "- Baseline model, L2 normalized logistic regression with word counts as features\n",
    "- Tf-idf model, L2 normalized logistic regression with tf-idf weighted word features. My motivation for attempting this is that it will downweight or outright eliminate unimportant, highly frequent words (e.g., 'the'), \"biasing\" the model estimation process towards rarer, reasonably more informative words.\n",
    "- Binary model, same as the baseline model except with binary word presence indicators instead of counts. My motivation for attempting this is that it is a simpler model than using counts. For instance, it may be beneficial to indicate whether or word occurs vs. how many times it occurs, because the number of times a word appears may not scale with an increase in odds that the text is polite or impolite. Therefore, this would add some noise to the model estimation process.  \n",
    "- Other ideas: obtain or make a \"politeness\" lexicon indicator. Things that I know for certain should be correlated with politeness/impoliteness, e.g., the use of the word `please` or `thank you` bigram or the use of the word `stupid` or a `you suck` bigram."
   ]
  },
  {
   "cell_type": "markdown",
   "metadata": {},
   "source": [
    "For a feature-based model of your choice:\n",
    "\n",
    "List the top 2 most informative features that are mostly strongly positively and negatively associated with politeness. Discuss if you find these surprising and any other comments you might have. You may adapt code provided by the instructor in the Naive Bayes example (notebook here), use another source online, or write your own."
   ]
  },
  {
   "cell_type": "markdown",
   "metadata": {},
   "source": [
    "I will give this information for my TF-IDF logistic regression model because it performed the best"
   ]
  },
  {
   "cell_type": "code",
   "execution_count": 121,
   "metadata": {},
   "outputs": [
    {
     "name": "stdout",
     "output_type": "stream",
     "text": [
      "Class 1:\n",
      "thanks 5.645505067725689\n",
      "could 3.348128349104262\n",
      "\n",
      "Class 0:\n",
      "why 6.488065432838999\n",
      "homework 2.7116534979864335\n"
     ]
    }
   ],
   "source": [
    "pipe_tfidf.fit(x, y)\n",
    "\n",
    "# Define the most_informative_features function\n",
    "def most_informative_features(vectorizer, classifier, n=10):\n",
    "    feature_names = vectorizer.get_feature_names_out()\n",
    "    topn_class1 = sorted(zip(classifier.coef_[0], feature_names))[-n:]\n",
    "    topn_class0 = sorted(zip(-classifier.coef_[0], feature_names))[-n:]\n",
    "    \n",
    "    print(\"Class 1:\")\n",
    "    for coef, feat in reversed(topn_class1):\n",
    "        print(feat, coef)\n",
    "        \n",
    "    print(\"\\nClass 0:\")\n",
    "    for coef, feat in reversed(topn_class0):\n",
    "        print(feat, coef)\n",
    "\n",
    "\n",
    "most_informative_features(pipe_tfidf.named_steps['vec'], pipe_tfidf.named_steps['lr'], n=2)"
   ]
  },
  {
   "cell_type": "markdown",
   "metadata": {},
   "source": [
    "That `thanks` is important to politeness is unsurprising. `Could` is also possibly unsurprising, because it can be the start of a polite question.\n",
    "\n",
    "That `why` is important to impoliteness is interesting because one connotation of this is that `why` questions on StackOverflow usually come from questioning the judgment of the questioner by the answerer. That `homework` is also predictive of impoliteness is interesting because Stackoverflow is a website for people to try answering their own problems first, failing, and then saying why they are stuck. That someone might mention homework in an impolite response might mean they were responding to someone curtly about doing their own homework."
   ]
  },
  {
   "cell_type": "markdown",
   "metadata": {},
   "source": [
    "Do an error analysis. Provide a confusion matrix."
   ]
  },
  {
   "cell_type": "code",
   "execution_count": 93,
   "metadata": {},
   "outputs": [
    {
     "name": "stdout",
     "output_type": "stream",
     "text": [
      "[[2106  360]\n",
      " [ 339 2127]]\n"
     ]
    }
   ],
   "source": [
    "pred_y = pipe_tfidf.predict(x)\n",
    "cm = confusion_matrix(y, pred_y)\n",
    "\n",
    "print(cm)"
   ]
  },
  {
   "cell_type": "code",
   "execution_count": 94,
   "metadata": {},
   "outputs": [
    {
     "data": {
      "image/png": "[encoded data removed]",
      "text/plain": [
       "<Figure size 1000x700 with 2 Axes>"
      ]
     },
     "metadata": {},
     "output_type": "display_data"
    }
   ],
   "source": [
    "plt.figure(figsize=(10,7))\n",
    "sns.heatmap(cm, annot=True, fmt='d')\n",
    "plt.xlabel('Predicted Label')\n",
    "plt.ylabel('Ground Truth')\n",
    "plt.show()"
   ]
  },
  {
   "cell_type": "markdown",
   "metadata": {},
   "source": [
    "The model is about 70% correct, as our accuracy metric indicates. The errors are split approximately 50/50 between false negatives and false positives"
   ]
  },
  {
   "cell_type": "markdown",
   "metadata": {},
   "source": [
    "Sample multiple examples from both false negatives and false positives. Do you see any patterns in these errors? How might these errors be addressed with different features or if the system could understand something else? (You don’t have to implement these, just speculate.)"
   ]
  },
  {
   "cell_type": "code",
   "execution_count": 95,
   "metadata": {},
   "outputs": [
    {
     "name": "stdout",
     "output_type": "stream",
     "text": [
      "False Negatives:\n",
      "What are you trying to say? You want a Registry Editor?\n",
      "Negative Words? False\n",
      "Positive Words? False\n",
      "Not sure what you are referring to when you say you need an SQL query builder for \"Python\". Do you mean to say you need an ORM like SQLAlchemy (http://www.sqlalchemy.org/) to connect with databases without having to write SQL statements yourself?\n",
      "Negative Words? True\n",
      "Positive Words? True\n",
      "I confess, no. What's exactly to be read in the docs you are referring to?\n",
      "Negative Words? True\n",
      "Positive Words? False\n",
      "I read the diff upside down or something... Glad someone is keeping an eye on me :) I'm mainly doing stuff over here <url> these days, what are you up to currently? Still concentrating on the Ui Imair?\n",
      "Negative Words? True\n",
      "Positive Words? True\n",
      "What version of bash are you using? Is it 4.x or 3.x?\n",
      "Negative Words? False\n",
      "Positive Words? False\n",
      "At what point in this process did you discover the MBP was unplugged? Is the problem continuing to happen after the MBP is fully recharged?\n",
      "Negative Words? True\n",
      "Positive Words? True\n",
      "How are `g_rx_buffer` and `BYTE` defined?  What compiler are you using?\n",
      "Negative Words? False\n",
      "Positive Words? False\n",
      "What would stop the algorithm from just producing a regular expression that is the \"or\" of all the possible substrings?  Or would you be comfortable with this regular expression from being produced?\n",
      "Negative Words? False\n",
      "Positive Words? True\n",
      "Ditto \"look professional\". What does that mean to you, exactly?\n",
      "Negative Words? False\n",
      "Positive Words? False\n",
      "@Ivo Wetzel So, you are saying there is not way to get all objects attributes and values ? Or to convert such object to an associative array ?\n",
      "Negative Words? True\n",
      "Positive Words? False\n",
      "\n",
      "False Positives:\n",
      "You could specify whether you need an introduction on applied statistics, or one on (theoretical) statistical inference. I.e., do you want the framework of testing, regression and ANOVA explained or do you want to know what the central limit theorem and the inequality of Chebiyshev have to do with the weak law of large numbers?\n",
      "Negative Words? True\n",
      "Positive Words? True\n",
      "I guess this could lead to another set of advertising answers. There are a good range of vendors providing high quality services in this industry, but you might want to update your question with region, country etc?\n",
      "Negative Words? True\n",
      "Positive Words? True\n",
      "@There: That's a lot of code to wade through.  Are you saying you can't possibly simplify it in any further?\n",
      "Negative Words? False\n",
      "Positive Words? True\n",
      "Re: <url> and <url>, if you think they are better off as redirects to the suburb/town rather than substubs on the lakes with a <nowiki><person></nowiki> tagline, you only need to overwrite the article with a redirect (or revert to a previous version that was a redirect), leaving the substub in the article history. How come you speedied them before redirecting?\n",
      "Negative Words? True\n",
      "Positive Words? True\n",
      "Sorry @klox I don't understand. Could you explain a bit more?\n",
      "Negative Words? True\n",
      "Positive Words? False\n",
      "There cant be a general solution. What do you do when the stack has 10 entries and you need to output a number, but the last number hasnt arrived yet?\n",
      "Negative Words? False\n",
      "Positive Words? True\n",
      "Hi, although I agree with you, please check the following <url> in process. Why can't the darn thing work, in the first place?\n",
      "Negative Words? False\n",
      "Positive Words? True\n",
      "If the ads are script elements, does it really matter where you place them? Perhaps you can give an example?\n",
      "Negative Words? True\n",
      "Positive Words? True\n",
      "The sources are ref'd in the article. Can you be more specific?\n",
      "Negative Words? False\n",
      "Positive Words? False\n",
      "Further to what Stefan said, the tocloft package might be sensitive to other things you have in your preamble.  Could you post a [minimum working example](http://meta.tex.stackexchange.com/questions/228/ive-just-been-told-i-have-to-write-a-minimal-example-what-is-that), please?\n",
      "Negative Words? True\n",
      "Positive Words? True\n",
      "The number of false negative examples with a top 10 informative negative word was 5 out of 10\n",
      "The number of false negative examples with a top 10 informative positive words was 4 out of 10\n",
      "The number of false positive examples with a top 10 informative negative words was 6 out of 10\n",
      "The number of false positive examples with a top 10 informative positive words was 8 out of 10\n"
     ]
    }
   ],
   "source": [
    "def get_misses(outcome, outcome_hat, text_data):\n",
    "    false_negatives = [i for i, outcome in enumerate(outcome) if ((outcome == 1) & (outcome_hat[i] == 0))]\n",
    "    false_positives = [i for i, outcome in enumerate(outcome) if ((outcome == 0) & (outcome_hat[i] == 1))]\n",
    "    top10_positive = ['thanks', 'could', 'hi', 'can', 'for', 'thank', 'help', 'great', 'good', 'would']\n",
    "    top10_negative = ['why', 'homework', 'really', 'not', 'don', 'who', 'wikipedia', 'what', 'shouldn', 'no']\n",
    "    neg_in_fn = 0\n",
    "    pos_in_fn = 0\n",
    "    neg_in_fp = 0\n",
    "    pos_in_fp = 0\n",
    "\n",
    "    print(\"False Negatives:\")\n",
    "    for i in false_negatives[0:10]:\n",
    "        print(text_data[i])\n",
    "        print('Negative Words? ' + str(any(word in text_data[i] for word in top10_negative)))\n",
    "        if any(word in text_data[i] for word in top10_negative):\n",
    "            neg_in_fn += 1\n",
    "        print('Positive Words? ' + str(any(word in text_data[i] for word in top10_positive)))\n",
    "        if any(word in text_data[i] for word in top10_positive):\n",
    "            pos_in_fn += 1\n",
    "\n",
    "\n",
    "    print(\"\\nFalse Positives:\")\n",
    "    for i in false_positives[0:10]:\n",
    "        print(text_data[i])\n",
    "        print('Negative Words? ' + str(any(word in text_data[i] for word in top10_negative)))\n",
    "        print('Positive Words? ' + str(any(word in text_data[i] for word in top10_positive)))\n",
    "        if any(word in text_data[i] for word in top10_negative):\n",
    "            neg_in_fp += 1\n",
    "        if any(word in text_data[i] for word in top10_positive):\n",
    "            pos_in_fp += 1\n",
    "    \n",
    "    print(f'The number of false negative examples with a top 10 informative negative word was {neg_in_fn} out of 10')\n",
    "    print(f'The number of false negative examples with a top 10 informative positive words was {pos_in_fn} out of 10')\n",
    "    print(f'The number of false positive examples with a top 10 informative negative words was {neg_in_fp} out of 10')\n",
    "    print(f'The number of false positive examples with a top 10 informative positive words was {pos_in_fp} out of 10')\n",
    "\n",
    "get_misses(y, pred_y, x)\n"
   ]
  },
  {
   "cell_type": "markdown",
   "metadata": {},
   "source": [
    "In 8 out of 10 false positive examples, there was a positive word that was in the top10 most informative positive words. \n",
    "In 5 out of 10 false negative examples, there was a negative word that was in the top10 most informative negative words.\n",
    "\n",
    "At the same time, both false positive examples and false negative examples also had the presence of informative positive and negative words. Two false positive examples contain the words \"can't\", which my tokenizer tokenizes partially into the word 'can'. This is a clear example of how preprocessing can affect the downstream prediction task. If I had included 'can't' as its own, full token, this might've helped the model distinguish between someone saying something polite containing 'can' and someone saying something impolite with 'can't' (e.g., \"can't you do this?\"). \n",
    "\n",
    "Another way that the features could be improved is to use larger n-grams. For instance, even if I use the same tokenizer, it could've helped the model if it saw \"can\" and \"'t\" as a bigram feature compared to \"can\" and \"'t\" as independent and uncorrelated unigram features."
   ]
  },
  {
   "cell_type": "markdown",
   "metadata": {},
   "source": [
    "## Neural Network"
   ]
  },
  {
   "cell_type": "markdown",
   "metadata": {},
   "source": [
    "In this section, you will build and evaluate a feedforward neural network that uses pre-trained static word embeddings (word2vec, GloVe, FastText, etc) as input. To represent the document, you can take the average word embeddings of the input sentence or choose another function. You can choose which activation function to use and other hyperparameters. You will again use 5-fold cross validation on the dataset. There is no need for this model to outperform the logistic regression model you made.\n",
    "\n",
    "Tasks for section 2.2\n",
    "Implement a feedforward neural network with static word embeddings as input.\n"
   ]
  },
  {
   "cell_type": "code",
   "execution_count": 96,
   "metadata": {},
   "outputs": [],
   "source": [
    "sentences = [nltk.word_tokenize(sentence) for sentence in x]\n",
    "model = Word2Vec(sentences)\n",
    "def sentence_to_avg_vector(sentence):\n",
    "    words = sentence.split()\n",
    "    word_vectors = [model.wv[word] for word in words if word in model.wv.key_to_index]\n",
    "    if not word_vectors:\n",
    "        return np.zeros(model.vector_size)\n",
    "    return np.mean(word_vectors, axis=0)\n",
    "\n",
    "polite['text_avg_embedding'] = polite['text'].apply(sentence_to_avg_vector)\n"
   ]
  },
  {
   "cell_type": "code",
   "execution_count": 113,
   "metadata": {},
   "outputs": [],
   "source": [
    "nn = MLPClassifier(max_iter=1000, random_state=42)\n",
    "\n",
    "nn_x = np.stack(polite['text_avg_embedding'].values)\n",
    "nn_y = polite['polite'].values\n",
    "\n",
    "cv_nn = cross_validate(nn, nn_x, nn_y, cv=5, scoring = scoring)"
   ]
  },
  {
   "cell_type": "code",
   "execution_count": 114,
   "metadata": {},
   "outputs": [],
   "source": [
    "nn_model = pd.DataFrame(cv_nn)\n",
    "nn_model['model'] = np.repeat(['nn'], 5)\n",
    "all_models = pd.concat([lr_models, nn_model])\n"
   ]
  },
  {
   "cell_type": "markdown",
   "metadata": {},
   "source": [
    "In the report, please provide:\n",
    "\n",
    "Performance scores for this model. Include accuracy as well as precision, recall, and f1-score for the positive (polite) class. This can be an additional row in the table with other performance scores."
   ]
  },
  {
   "cell_type": "code",
   "execution_count": 115,
   "metadata": {},
   "outputs": [
    {
     "data": {
      "text/html": [
       "<div>\n",
       "<style scoped>\n",
       "    .dataframe tbody tr th:only-of-type {\n",
       "        vertical-align: middle;\n",
       "    }\n",
       "\n",
       "    .dataframe tbody tr th {\n",
       "        vertical-align: top;\n",
       "    }\n",
       "\n",
       "    .dataframe thead th {\n",
       "        text-align: right;\n",
       "    }\n",
       "</style>\n",
       "<table border=\"1\" class=\"dataframe\">\n",
       "  <thead>\n",
       "    <tr style=\"text-align: right;\">\n",
       "      <th></th>\n",
       "      <th>fit_time</th>\n",
       "      <th>score_time</th>\n",
       "      <th>test_accuracy</th>\n",
       "      <th>test_precision</th>\n",
       "      <th>test_recall</th>\n",
       "      <th>test_f1_score</th>\n",
       "    </tr>\n",
       "    <tr>\n",
       "      <th>model</th>\n",
       "      <th></th>\n",
       "      <th></th>\n",
       "      <th></th>\n",
       "      <th></th>\n",
       "      <th></th>\n",
       "      <th></th>\n",
       "    </tr>\n",
       "  </thead>\n",
       "  <tbody>\n",
       "    <tr>\n",
       "      <th>binary</th>\n",
       "      <td>0.326193</td>\n",
       "      <td>0.023488</td>\n",
       "      <td>0.701542</td>\n",
       "      <td>0.703966</td>\n",
       "      <td>0.695873</td>\n",
       "      <td>0.699767</td>\n",
       "    </tr>\n",
       "    <tr>\n",
       "      <th>bow</th>\n",
       "      <td>0.627263</td>\n",
       "      <td>0.022621</td>\n",
       "      <td>0.696880</td>\n",
       "      <td>0.699391</td>\n",
       "      <td>0.691004</td>\n",
       "      <td>0.695107</td>\n",
       "    </tr>\n",
       "    <tr>\n",
       "      <th>nn</th>\n",
       "      <td>3.998432</td>\n",
       "      <td>0.006944</td>\n",
       "      <td>0.610710</td>\n",
       "      <td>0.614305</td>\n",
       "      <td>0.616010</td>\n",
       "      <td>0.611709</td>\n",
       "    </tr>\n",
       "    <tr>\n",
       "      <th>tfidf</th>\n",
       "      <td>0.101053</td>\n",
       "      <td>0.021685</td>\n",
       "      <td>0.710667</td>\n",
       "      <td>0.704289</td>\n",
       "      <td>0.727091</td>\n",
       "      <td>0.715381</td>\n",
       "    </tr>\n",
       "  </tbody>\n",
       "</table>\n",
       "</div>"
      ],
      "text/plain": [
       "        fit_time  score_time  test_accuracy  test_precision  test_recall  \\\n",
       "model                                                                      \n",
       "binary  0.326193    0.023488       0.701542        0.703966     0.695873   \n",
       "bow     0.627263    0.022621       0.696880        0.699391     0.691004   \n",
       "nn      3.998432    0.006944       0.610710        0.614305     0.616010   \n",
       "tfidf   0.101053    0.021685       0.710667        0.704289     0.727091   \n",
       "\n",
       "        test_f1_score  \n",
       "model                  \n",
       "binary       0.699767  \n",
       "bow          0.695107  \n",
       "nn           0.611709  \n",
       "tfidf        0.715381  "
      ]
     },
     "execution_count": 115,
     "metadata": {},
     "output_type": "execute_result"
    }
   ],
   "source": [
    "all_models.groupby('model').mean()"
   ]
  },
  {
   "cell_type": "markdown",
   "metadata": {},
   "source": [
    "The tf-idf model is still the best performing model, logistic regression or otherwise."
   ]
  },
  {
   "cell_type": "markdown",
   "metadata": {},
   "source": [
    "Discuss the motivation for any choices you made as far as word embedding types, pretraining dataset, and/or how you represented the document, or if you experimented with multiple of these options."
   ]
  },
  {
   "cell_type": "markdown",
   "metadata": {},
   "source": [
    "I used word2vec because it is an easily understandable way to embed words based on their 'positive' contexts. I also estimated embeddings using the polite dataset using the word2vec algorithm because it was easiest. I then represented each sentence/documents as the average embedding of the words it contains because it was straightforward to do so. These motivations are not very virtuous and it shows in the performance of the neural network, although there are also the architectural factors to consider with regards to the performance. I did not experiment with any other embedding or representation options. However, if I were to experiment with different embeddings, I would find a pre-trained embedding obtained from a larger corpus with documents similar to the one in this dataset (code Q&A forum) or another somewhat conversational corpus. For experimenting with representations, perhaps the sum of embeddings would be a better representation than the averages."
   ]
  },
  {
   "cell_type": "markdown",
   "metadata": {},
   "source": [
    "Discuss the motivation for any choices you made as far as network architecture (number and dimensions of hidden layers) or hyperparameters (learning rate, number of epochs, etc). Note if you experimented with any of these options."
   ]
  },
  {
   "cell_type": "markdown",
   "metadata": {},
   "source": [
    "I don't know why I would choose one architecture and set of hyperparameters over another, so I used default parameters (i.e., one hidden layer with `100 neurons` and the `relu` activation function). This is where hyperparameter tuning comes in so let's try that"
   ]
  },
  {
   "cell_type": "code",
   "execution_count": 117,
   "metadata": {},
   "outputs": [
    {
     "data": {
      "text/html": [
       "<style>#sk-container-id-1 {color: black;}#sk-container-id-1 pre{padding: 0;}#sk-container-id-1 div.sk-toggleable {background-color: white;}#sk-container-id-1 label.sk-toggleable__label {cursor: pointer;display: block;width: 100%;margin-bottom: 0;padding: 0.3em;box-sizing: border-box;text-align: center;}#sk-container-id-1 label.sk-toggleable__label-arrow:before {content: \"▸\";float: left;margin-right: 0.25em;color: #696969;}#sk-container-id-1 label.sk-toggleable__label-arrow:hover:before {color: black;}#sk-container-id-1 div.sk-estimator:hover label.sk-toggleable__label-arrow:before {color: black;}#sk-container-id-1 div.sk-toggleable__content {max-height: 0;max-width: 0;overflow: hidden;text-align: left;background-color: #f0f8ff;}#sk-container-id-1 div.sk-toggleable__content pre {margin: 0.2em;color: black;border-radius: 0.25em;background-color: #f0f8ff;}#sk-container-id-1 input.sk-toggleable__control:checked~div.sk-toggleable__content {max-height: 200px;max-width: 100%;overflow: auto;}#sk-container-id-1 input.sk-toggleable__control:checked~label.sk-toggleable__label-arrow:before {content: \"▾\";}#sk-container-id-1 div.sk-estimator input.sk-toggleable__control:checked~label.sk-toggleable__label {background-color: #d4ebff;}#sk-container-id-1 div.sk-label input.sk-toggleable__control:checked~label.sk-toggleable__label {background-color: #d4ebff;}#sk-container-id-1 input.sk-hidden--visually {border: 0;clip: rect(1px 1px 1px 1px);clip: rect(1px, 1px, 1px, 1px);height: 1px;margin: -1px;overflow: hidden;padding: 0;position: absolute;width: 1px;}#sk-container-id-1 div.sk-estimator {font-family: monospace;background-color: #f0f8ff;border: 1px dotted black;border-radius: 0.25em;box-sizing: border-box;margin-bottom: 0.5em;}#sk-container-id-1 div.sk-estimator:hover {background-color: #d4ebff;}#sk-container-id-1 div.sk-parallel-item::after {content: \"\";width: 100%;border-bottom: 1px solid gray;flex-grow: 1;}#sk-container-id-1 div.sk-label:hover label.sk-toggleable__label {background-color: #d4ebff;}#sk-container-id-1 div.sk-serial::before {content: \"\";position: absolute;border-left: 1px solid gray;box-sizing: border-box;top: 0;bottom: 0;left: 50%;z-index: 0;}#sk-container-id-1 div.sk-serial {display: flex;flex-direction: column;align-items: center;background-color: white;padding-right: 0.2em;padding-left: 0.2em;position: relative;}#sk-container-id-1 div.sk-item {position: relative;z-index: 1;}#sk-container-id-1 div.sk-parallel {display: flex;align-items: stretch;justify-content: center;background-color: white;position: relative;}#sk-container-id-1 div.sk-item::before, #sk-container-id-1 div.sk-parallel-item::before {content: \"\";position: absolute;border-left: 1px solid gray;box-sizing: border-box;top: 0;bottom: 0;left: 50%;z-index: -1;}#sk-container-id-1 div.sk-parallel-item {display: flex;flex-direction: column;z-index: 1;position: relative;background-color: white;}#sk-container-id-1 div.sk-parallel-item:first-child::after {align-self: flex-end;width: 50%;}#sk-container-id-1 div.sk-parallel-item:last-child::after {align-self: flex-start;width: 50%;}#sk-container-id-1 div.sk-parallel-item:only-child::after {width: 0;}#sk-container-id-1 div.sk-dashed-wrapped {border: 1px dashed gray;margin: 0 0.4em 0.5em 0.4em;box-sizing: border-box;padding-bottom: 0.4em;background-color: white;}#sk-container-id-1 div.sk-label label {font-family: monospace;font-weight: bold;display: inline-block;line-height: 1.2em;}#sk-container-id-1 div.sk-label-container {text-align: center;}#sk-container-id-1 div.sk-container {/* jupyter's `normalize.less` sets `[hidden] { display: none; }` but bootstrap.min.css set `[hidden] { display: none !important; }` so we also need the `!important` here to be able to override the default hidden behavior on the sphinx rendered scikit-learn.org. See: https://github.com/scikit-learn/scikit-learn/issues/21755 */display: inline-block !important;position: relative;}#sk-container-id-1 div.sk-text-repr-fallback {display: none;}</style><div id=\"sk-container-id-1\" class=\"sk-top-container\"><div class=\"sk-text-repr-fallback\"><pre>GridSearchCV(cv=5, estimator=MLPClassifier(max_iter=300, random_state=42),\n",
       "             n_jobs=-1,\n",
       "             param_grid={&#x27;activation&#x27;: [&#x27;tanh&#x27;, &#x27;relu&#x27;],\n",
       "                         &#x27;alpha&#x27;: [0.0001, 0.001, 0.01, 0.05],\n",
       "                         &#x27;hidden_layer_sizes&#x27;: [(50, 50, 50), (50, 100, 50),\n",
       "                                                (10, 10)],\n",
       "                         &#x27;learning_rate&#x27;: [&#x27;constant&#x27;, &#x27;adaptive&#x27;],\n",
       "                         &#x27;solver&#x27;: [&#x27;sgd&#x27;, &#x27;adam&#x27;]})</pre><b>In a Jupyter environment, please rerun this cell to show the HTML representation or trust the notebook. <br />On GitHub, the HTML representation is unable to render, please try loading this page with nbviewer.org.</b></div><div class=\"sk-container\" hidden><div class=\"sk-item sk-dashed-wrapped\"><div class=\"sk-label-container\"><div class=\"sk-label sk-toggleable\"><input class=\"sk-toggleable__control sk-hidden--visually\" id=\"sk-estimator-id-1\" type=\"checkbox\" ><label for=\"sk-estimator-id-1\" class=\"sk-toggleable__label sk-toggleable__label-arrow\">GridSearchCV</label><div class=\"sk-toggleable__content\"><pre>GridSearchCV(cv=5, estimator=MLPClassifier(max_iter=300, random_state=42),\n",
       "             n_jobs=-1,\n",
       "             param_grid={&#x27;activation&#x27;: [&#x27;tanh&#x27;, &#x27;relu&#x27;],\n",
       "                         &#x27;alpha&#x27;: [0.0001, 0.001, 0.01, 0.05],\n",
       "                         &#x27;hidden_layer_sizes&#x27;: [(50, 50, 50), (50, 100, 50),\n",
       "                                                (10, 10)],\n",
       "                         &#x27;learning_rate&#x27;: [&#x27;constant&#x27;, &#x27;adaptive&#x27;],\n",
       "                         &#x27;solver&#x27;: [&#x27;sgd&#x27;, &#x27;adam&#x27;]})</pre></div></div></div><div class=\"sk-parallel\"><div class=\"sk-parallel-item\"><div class=\"sk-item\"><div class=\"sk-label-container\"><div class=\"sk-label sk-toggleable\"><input class=\"sk-toggleable__control sk-hidden--visually\" id=\"sk-estimator-id-2\" type=\"checkbox\" ><label for=\"sk-estimator-id-2\" class=\"sk-toggleable__label sk-toggleable__label-arrow\">estimator: MLPClassifier</label><div class=\"sk-toggleable__content\"><pre>MLPClassifier(max_iter=300, random_state=42)</pre></div></div></div><div class=\"sk-serial\"><div class=\"sk-item\"><div class=\"sk-estimator sk-toggleable\"><input class=\"sk-toggleable__control sk-hidden--visually\" id=\"sk-estimator-id-3\" type=\"checkbox\" ><label for=\"sk-estimator-id-3\" class=\"sk-toggleable__label sk-toggleable__label-arrow\">MLPClassifier</label><div class=\"sk-toggleable__content\"><pre>MLPClassifier(max_iter=300, random_state=42)</pre></div></div></div></div></div></div></div></div></div></div>"
      ],
      "text/plain": [
       "GridSearchCV(cv=5, estimator=MLPClassifier(max_iter=300, random_state=42),\n",
       "             n_jobs=-1,\n",
       "             param_grid={'activation': ['tanh', 'relu'],\n",
       "                         'alpha': [0.0001, 0.001, 0.01, 0.05],\n",
       "                         'hidden_layer_sizes': [(50, 50, 50), (50, 100, 50),\n",
       "                                                (10, 10)],\n",
       "                         'learning_rate': ['constant', 'adaptive'],\n",
       "                         'solver': ['sgd', 'adam']})"
      ]
     },
     "execution_count": 117,
     "metadata": {},
     "output_type": "execute_result"
    }
   ],
   "source": [
    "param_grid = {\n",
    "    'hidden_layer_sizes': [(50,50,50), (50,100,50), (10,10)],\n",
    "    'activation': ['tanh', 'relu'],\n",
    "    'solver': ['sgd', 'adam'],\n",
    "    'alpha': [0.0001, .001, 0.01, 0.05],\n",
    "    'learning_rate': ['constant','adaptive'],\n",
    "}\n",
    "\n",
    "nn_2 = MLPClassifier(max_iter=300, random_state=42)\n",
    "\n",
    "nn_grid = GridSearchCV(nn_2, param_grid, cv=5, n_jobs=-1)\n",
    "\n",
    "# Fit the model to the data\n",
    "nn_grid.fit(nn_x, nn_y)  # replace X and y with your data"
   ]
  },
  {
   "cell_type": "code",
   "execution_count": 130,
   "metadata": {},
   "outputs": [
    {
     "data": {
      "text/plain": [
       "0       Try to add an `import pycuda` line at the top ...\n",
       "1       Hello, our project has begun to fall a little ...\n",
       "2       Picking up your challenge. You a big fan of sk...\n",
       "3       @Herbert: Still I think your answer is very co...\n",
       "4       Thanks for continuing to look over the article...\n",
       "                              ...                        \n",
       "4927    You never mentioned how far it is to work? How...\n",
       "4928    Why are the results bad? Can you elaborate on ...\n",
       "4929    Thank you, after some experimenting, this seem...\n",
       "4930    Why are you using that in the first place? Why...\n",
       "4931    Why on earth would that make for bad chicken s...\n",
       "Name: text, Length: 4932, dtype: object"
      ]
     },
     "execution_count": 130,
     "metadata": {},
     "output_type": "execute_result"
    }
   ],
   "source": [
    "x"
   ]
  },
  {
   "cell_type": "code",
   "execution_count": 126,
   "metadata": {},
   "outputs": [
    {
     "data": {
      "text/plain": [
       "array([array([ 0.03849498,  0.29648408,  0.06791625, -0.03388536,  0.10964056,\n",
       "              -0.29727167,  0.05290221,  0.64719325, -0.21412535, -0.07203906,\n",
       "              -0.05511004, -0.22657014,  0.02251264,  0.25524318, -0.07646068,\n",
       "              -0.18734314,  0.20749038, -0.24285263, -0.18108326, -0.6431815 ,\n",
       "               0.14762792,  0.14411975,  0.13561076, -0.05235285, -0.12610151,\n",
       "              -0.16299121, -0.1402613 , -0.14767891, -0.33188948,  0.25540295,\n",
       "               0.52841353,  0.0082042 ,  0.16849895, -0.58971983, -0.2134884 ,\n",
       "               0.6076413 ,  0.13525869, -0.20679975, -0.27537018, -0.5345579 ,\n",
       "              -0.06494079, -0.31286648, -0.13413282,  0.06689253,  0.3603256 ,\n",
       "              -0.20546953, -0.18698806, -0.19649453,  0.22384594,  0.05041104,\n",
       "               0.141752  , -0.20044357, -0.1835096 , -0.06338381, -0.24227352,\n",
       "               0.07340314,  0.1605139 , -0.03571523, -0.55876875, -0.10154375,\n",
       "               0.22573948, -0.06322338,  0.12371819, -0.07308272, -0.44749603,\n",
       "               0.34716415,  0.24711742,  0.28534004, -0.6156655 ,  0.32512718,\n",
       "              -0.21270795, -0.04256203,  0.29495132, -0.04210508,  0.33737707,\n",
       "               0.15164427, -0.00777507,  0.01694297, -0.33523282,  0.13208945,\n",
       "              -0.19011068, -0.24373536, -0.5648253 ,  0.52745014, -0.341728  ,\n",
       "              -0.07315937,  0.14186375,  0.5747232 ,  0.37954172,  0.05757968,\n",
       "               0.43877867,  0.3485278 ,  0.10236654,  0.01831306,  0.5243274 ,\n",
       "               0.14226463, -0.01714825, -0.20891862,  0.1465077 , -0.15478462],\n",
       "             dtype=float32)                                                    ,\n",
       "       array([-0.11621226,  0.3075991 ,  0.05338153, -0.08689754,  0.1673172 ,\n",
       "              -0.3567778 ,  0.06716333,  0.6675303 , -0.26541007, -0.12033794,\n",
       "              -0.07616907, -0.2564381 , -0.00502574,  0.1787267 ,  0.06383854,\n",
       "              -0.28211415,  0.18312338, -0.26716533, -0.19122586, -0.71038   ,\n",
       "               0.07820265,  0.11309191,  0.13464215, -0.01747559, -0.10223576,\n",
       "              -0.14855462, -0.12337612, -0.21121436, -0.32288587,  0.22629918,\n",
       "               0.4778094 , -0.0170703 ,  0.12896933, -0.47068658, -0.21742435,\n",
       "               0.61499476,  0.0682321 , -0.17562185, -0.17282653, -0.49945807,\n",
       "               0.04156217, -0.3906329 , -0.1234688 ,  0.1131739 ,  0.38039613,\n",
       "              -0.20252825, -0.20715779, -0.15740702,  0.17796409,  0.0289834 ,\n",
       "               0.1763008 , -0.21276468, -0.06938709, -0.00616181, -0.32927504,\n",
       "               0.13482729,  0.22158234, -0.09748601, -0.46770135, -0.08493496,\n",
       "               0.2682025 , -0.07673033,  0.15239592, -0.07499602, -0.43939832,\n",
       "               0.3647233 ,  0.26063597,  0.41448048, -0.6067525 ,  0.33199272,\n",
       "              -0.18238105,  0.07172105,  0.25710523,  0.02384759,  0.35860914,\n",
       "               0.19896406,  0.05107702,  0.07176318, -0.30869234,  0.09212727,\n",
       "              -0.12787616, -0.25756434, -0.46559852,  0.45715347, -0.20778617,\n",
       "              -0.01224545,  0.11381665,  0.48866257,  0.34263027, -0.0064197 ,\n",
       "               0.5227107 ,  0.29627   ,  0.07654624,  0.06674171,  0.5625536 ,\n",
       "               0.23609684,  0.08257046, -0.2604897 ,  0.12769003, -0.151739  ],\n",
       "             dtype=float32)                                                    ,\n",
       "       array([-0.00270662,  0.36482814,  0.06751088, -0.02727734,  0.15789773,\n",
       "              -0.37555808,  0.09228349,  0.7271752 , -0.2784192 , -0.0975102 ,\n",
       "              -0.04373763, -0.3177698 ,  0.0201008 ,  0.24955067, -0.02540782,\n",
       "              -0.23975834,  0.18481496, -0.26347035, -0.16115332, -0.71408516,\n",
       "               0.15244547,  0.12784363,  0.1475098 , -0.06522162, -0.1656506 ,\n",
       "              -0.13278581, -0.1526216 , -0.20116605, -0.37571257,  0.23811963,\n",
       "               0.51484233, -0.01647901,  0.20051818, -0.5714556 , -0.23609899,\n",
       "               0.64090985,  0.13165687, -0.17434624, -0.26962143, -0.56017065,\n",
       "              -0.04409722, -0.34345445, -0.14831558,  0.12374514,  0.36683458,\n",
       "              -0.24534726, -0.18309517, -0.19939396,  0.25920042,  0.05759653,\n",
       "               0.14462124, -0.25536844, -0.13083014, -0.05497059, -0.27509677,\n",
       "               0.08686212,  0.20729399, -0.02510832, -0.5496985 , -0.09956265,\n",
       "               0.23328085, -0.05489919,  0.13333043, -0.08118029, -0.47723633,\n",
       "               0.37129432,  0.23592618,  0.35702017, -0.7073201 ,  0.34725204,\n",
       "              -0.2262744 ,  0.00398314,  0.3646643 , -0.06022025,  0.381382  ,\n",
       "               0.17642866, -0.00998412,  0.02968159, -0.3385333 ,  0.10812704,\n",
       "              -0.21181442, -0.26025537, -0.59377116,  0.50411034, -0.32301608,\n",
       "              -0.0841189 ,  0.13935222,  0.6215882 ,  0.4637482 ,  0.03386087,\n",
       "               0.46322852,  0.40197453,  0.10103593,  0.03928864,  0.6494604 ,\n",
       "               0.17503107,  0.03535602, -0.25675943,  0.16993904, -0.18851493],\n",
       "             dtype=float32)                                                    ,\n",
       "       ...,\n",
       "       array([-0.03418075,  0.2774171 ,  0.07000836, -0.0552598 ,  0.12323826,\n",
       "              -0.30625436,  0.05481304,  0.5986111 , -0.20580132, -0.09545707,\n",
       "              -0.04853363, -0.22391918, -0.00686514,  0.20280431, -0.02566859,\n",
       "              -0.20829563,  0.18858124, -0.23622355, -0.17136605, -0.61795974,\n",
       "               0.10156315,  0.12511523,  0.12636179, -0.02764791, -0.106665  ,\n",
       "              -0.14222756, -0.13428922, -0.16401495, -0.29055747,  0.21672712,\n",
       "               0.46711466,  0.00620431,  0.14385882, -0.4899273 , -0.19616   ,\n",
       "               0.5575162 ,  0.10497643, -0.17315578, -0.19988403, -0.47339594,\n",
       "              -0.00863883, -0.31416485, -0.12061518,  0.07499211,  0.33501852,\n",
       "              -0.18734738, -0.17380702, -0.15748848,  0.19257079,  0.0413911 ,\n",
       "               0.14722422, -0.19693947, -0.11046796, -0.02840384, -0.2681135 ,\n",
       "               0.09013909,  0.1852577 , -0.04303333, -0.47490156, -0.08157411,\n",
       "               0.22295663, -0.06111719,  0.12523042, -0.07043719, -0.40823746,\n",
       "               0.31237954,  0.24151406,  0.30764604, -0.56068283,  0.30342266,\n",
       "              -0.18753432,  0.01056735,  0.2614275 , -0.01534826,  0.3164633 ,\n",
       "               0.15243539,  0.00627754,  0.03834468, -0.29995176,  0.0999759 ,\n",
       "              -0.1676808 , -0.22693081, -0.47767204,  0.46073365, -0.2668987 ,\n",
       "              -0.03840069,  0.11849135,  0.50518394,  0.33288136,  0.03519571,\n",
       "               0.44230512,  0.30673227,  0.08613786,  0.03921458,  0.50041354,\n",
       "               0.16812404,  0.01889038, -0.22256273,  0.13107127, -0.1306482 ],\n",
       "             dtype=float32)                                                    ,\n",
       "       array([-0.19396403,  0.44235954,  0.02410113, -0.09973348,  0.25169292,\n",
       "              -0.46592394,  0.15938863,  0.8328913 , -0.38486922, -0.18372068,\n",
       "              -0.08649446, -0.43064046,  0.01157209,  0.19180416,  0.17416045,\n",
       "              -0.39456144,  0.16906317, -0.28442103, -0.19924852, -0.8686541 ,\n",
       "               0.08335779,  0.04149172,  0.13279982, -0.02763369, -0.13228506,\n",
       "              -0.11393009, -0.15950087, -0.31447783, -0.38133284,  0.2049859 ,\n",
       "               0.45010996, -0.06455597,  0.15626591, -0.48395124, -0.24046235,\n",
       "               0.72946197,  0.07046811, -0.10790037, -0.16113953, -0.5370308 ,\n",
       "               0.02493411, -0.45899057, -0.14475048,  0.21796496,  0.4152483 ,\n",
       "              -0.28419003, -0.22518668, -0.10670501,  0.24799235,  0.07249554,\n",
       "               0.19399235, -0.24317761, -0.01096589, -0.02292084, -0.423971  ,\n",
       "               0.1447434 ,  0.33619684, -0.09341198, -0.46054468, -0.07359707,\n",
       "               0.27336282, -0.09437721,  0.17221062, -0.09777901, -0.49746424,\n",
       "               0.42228675,  0.31389773,  0.57499325, -0.76418936,  0.4193976 ,\n",
       "              -0.15199637,  0.1254867 ,  0.3168587 ,  0.06340818,  0.45778188,\n",
       "               0.21129258,  0.08592083,  0.13124537, -0.30619282,  0.08941367,\n",
       "              -0.18430538, -0.2733665 , -0.47575125,  0.39058584, -0.1625485 ,\n",
       "              -0.05278699,  0.13171211,  0.5372586 ,  0.4850994 , -0.04807521,\n",
       "               0.58954966,  0.36039874,  0.13121404,  0.09360309,  0.7405978 ,\n",
       "               0.31020576,  0.19496794, -0.35642076,  0.15882376, -0.17999169],\n",
       "             dtype=float32)                                                    ,\n",
       "       array([-0.1009762 ,  0.2849275 ,  0.06993384, -0.07139986,  0.13099998,\n",
       "              -0.35281646,  0.04433755,  0.65102607, -0.23973098, -0.13695788,\n",
       "              -0.08369906, -0.21856165, -0.01098922,  0.18941036,  0.04726055,\n",
       "              -0.2796986 ,  0.18574676, -0.29721   , -0.18732783, -0.6949602 ,\n",
       "               0.07470262,  0.13600717,  0.12480381,  0.00215367, -0.09023675,\n",
       "              -0.16121802, -0.14340208, -0.19399439, -0.27703595,  0.22222188,\n",
       "               0.47999734, -0.00501987,  0.13301383, -0.48976693, -0.22002694,\n",
       "               0.63314664,  0.07137673, -0.21772544, -0.1848971 , -0.51275426,\n",
       "               0.02091879, -0.38147846, -0.11378516,  0.07637917,  0.38084832,\n",
       "              -0.17750005, -0.21964945, -0.17455116,  0.15952255,  0.04540081,\n",
       "               0.16564606, -0.17960611, -0.10257981,  0.00796545, -0.32570267,\n",
       "               0.11817425,  0.20114727, -0.11051663, -0.4670021 , -0.07662622,\n",
       "               0.25740194, -0.06806934,  0.1387176 , -0.084277  , -0.4424118 ,\n",
       "               0.33942404,  0.28111935,  0.39350045, -0.5685528 ,  0.31956658,\n",
       "              -0.1725386 ,  0.05408107,  0.21715371,  0.0565659 ,  0.36016515,\n",
       "               0.1740314 ,  0.03004269,  0.07134014, -0.31756228,  0.12862484,\n",
       "              -0.12546325, -0.23112838, -0.44363454,  0.48297745, -0.2235323 ,\n",
       "               0.00953162,  0.1382792 ,  0.46910298,  0.31551346,  0.01949539,\n",
       "               0.52631056,  0.267135  ,  0.07218207,  0.08385721,  0.49650395,\n",
       "               0.24367815,  0.05950032, -0.23431137,  0.10051317, -0.11941233],\n",
       "             dtype=float32)                                                    ],\n",
       "      dtype=object)"
      ]
     },
     "execution_count": 126,
     "metadata": {},
     "output_type": "execute_result"
    }
   ],
   "source": [
    "polite['text_avg_embedding'].values"
   ]
  },
  {
   "cell_type": "code",
   "execution_count": 119,
   "metadata": {},
   "outputs": [
    {
     "name": "stdout",
     "output_type": "stream",
     "text": [
      "Best parameters: {'activation': 'relu', 'alpha': 0.0001, 'hidden_layer_sizes': (50, 50, 50), 'learning_rate': 'constant', 'solver': 'adam'}\n"
     ]
    },
    {
     "data": {
      "text/html": [
       "<style>#sk-container-id-3 {color: black;}#sk-container-id-3 pre{padding: 0;}#sk-container-id-3 div.sk-toggleable {background-color: white;}#sk-container-id-3 label.sk-toggleable__label {cursor: pointer;display: block;width: 100%;margin-bottom: 0;padding: 0.3em;box-sizing: border-box;text-align: center;}#sk-container-id-3 label.sk-toggleable__label-arrow:before {content: \"▸\";float: left;margin-right: 0.25em;color: #696969;}#sk-container-id-3 label.sk-toggleable__label-arrow:hover:before {color: black;}#sk-container-id-3 div.sk-estimator:hover label.sk-toggleable__label-arrow:before {color: black;}#sk-container-id-3 div.sk-toggleable__content {max-height: 0;max-width: 0;overflow: hidden;text-align: left;background-color: #f0f8ff;}#sk-container-id-3 div.sk-toggleable__content pre {margin: 0.2em;color: black;border-radius: 0.25em;background-color: #f0f8ff;}#sk-container-id-3 input.sk-toggleable__control:checked~div.sk-toggleable__content {max-height: 200px;max-width: 100%;overflow: auto;}#sk-container-id-3 input.sk-toggleable__control:checked~label.sk-toggleable__label-arrow:before {content: \"▾\";}#sk-container-id-3 div.sk-estimator input.sk-toggleable__control:checked~label.sk-toggleable__label {background-color: #d4ebff;}#sk-container-id-3 div.sk-label input.sk-toggleable__control:checked~label.sk-toggleable__label {background-color: #d4ebff;}#sk-container-id-3 input.sk-hidden--visually {border: 0;clip: rect(1px 1px 1px 1px);clip: rect(1px, 1px, 1px, 1px);height: 1px;margin: -1px;overflow: hidden;padding: 0;position: absolute;width: 1px;}#sk-container-id-3 div.sk-estimator {font-family: monospace;background-color: #f0f8ff;border: 1px dotted black;border-radius: 0.25em;box-sizing: border-box;margin-bottom: 0.5em;}#sk-container-id-3 div.sk-estimator:hover {background-color: #d4ebff;}#sk-container-id-3 div.sk-parallel-item::after {content: \"\";width: 100%;border-bottom: 1px solid gray;flex-grow: 1;}#sk-container-id-3 div.sk-label:hover label.sk-toggleable__label {background-color: #d4ebff;}#sk-container-id-3 div.sk-serial::before {content: \"\";position: absolute;border-left: 1px solid gray;box-sizing: border-box;top: 0;bottom: 0;left: 50%;z-index: 0;}#sk-container-id-3 div.sk-serial {display: flex;flex-direction: column;align-items: center;background-color: white;padding-right: 0.2em;padding-left: 0.2em;position: relative;}#sk-container-id-3 div.sk-item {position: relative;z-index: 1;}#sk-container-id-3 div.sk-parallel {display: flex;align-items: stretch;justify-content: center;background-color: white;position: relative;}#sk-container-id-3 div.sk-item::before, #sk-container-id-3 div.sk-parallel-item::before {content: \"\";position: absolute;border-left: 1px solid gray;box-sizing: border-box;top: 0;bottom: 0;left: 50%;z-index: -1;}#sk-container-id-3 div.sk-parallel-item {display: flex;flex-direction: column;z-index: 1;position: relative;background-color: white;}#sk-container-id-3 div.sk-parallel-item:first-child::after {align-self: flex-end;width: 50%;}#sk-container-id-3 div.sk-parallel-item:last-child::after {align-self: flex-start;width: 50%;}#sk-container-id-3 div.sk-parallel-item:only-child::after {width: 0;}#sk-container-id-3 div.sk-dashed-wrapped {border: 1px dashed gray;margin: 0 0.4em 0.5em 0.4em;box-sizing: border-box;padding-bottom: 0.4em;background-color: white;}#sk-container-id-3 div.sk-label label {font-family: monospace;font-weight: bold;display: inline-block;line-height: 1.2em;}#sk-container-id-3 div.sk-label-container {text-align: center;}#sk-container-id-3 div.sk-container {/* jupyter's `normalize.less` sets `[hidden] { display: none; }` but bootstrap.min.css set `[hidden] { display: none !important; }` so we also need the `!important` here to be able to override the default hidden behavior on the sphinx rendered scikit-learn.org. See: https://github.com/scikit-learn/scikit-learn/issues/21755 */display: inline-block !important;position: relative;}#sk-container-id-3 div.sk-text-repr-fallback {display: none;}</style><div id=\"sk-container-id-3\" class=\"sk-top-container\"><div class=\"sk-text-repr-fallback\"><pre>MLPClassifier(hidden_layer_sizes=(50, 50, 50), max_iter=300)</pre><b>In a Jupyter environment, please rerun this cell to show the HTML representation or trust the notebook. <br />On GitHub, the HTML representation is unable to render, please try loading this page with nbviewer.org.</b></div><div class=\"sk-container\" hidden><div class=\"sk-item\"><div class=\"sk-estimator sk-toggleable\"><input class=\"sk-toggleable__control sk-hidden--visually\" id=\"sk-estimator-id-5\" type=\"checkbox\" checked><label for=\"sk-estimator-id-5\" class=\"sk-toggleable__label sk-toggleable__label-arrow\">MLPClassifier</label><div class=\"sk-toggleable__content\"><pre>MLPClassifier(hidden_layer_sizes=(50, 50, 50), max_iter=300)</pre></div></div></div></div></div>"
      ],
      "text/plain": [
       "MLPClassifier(hidden_layer_sizes=(50, 50, 50), max_iter=300)"
      ]
     },
     "execution_count": 119,
     "metadata": {},
     "output_type": "execute_result"
    }
   ],
   "source": [
    "best_nn_params = nn_grid.best_params_\n",
    "print(\"Best parameters:\", best_nn_params)\n",
    "\n",
    "best_nn = MLPClassifier(**best_nn_params, max_iter=300)\n",
    "best_nn.fit(nn_x, nn_y)  # replace X and y with your data"
   ]
  },
  {
   "cell_type": "code",
   "execution_count": 120,
   "metadata": {},
   "outputs": [
    {
     "name": "stdout",
     "output_type": "stream",
     "text": [
      "[[1769  697]\n",
      " [1132 1334]]\n"
     ]
    }
   ],
   "source": [
    "pred_nn_y = best_nn.predict(nn_x)\n",
    "cm = confusion_matrix(nn_y, pred_nn_y)\n",
    "\n",
    "print(cm)"
   ]
  },
  {
   "cell_type": "markdown",
   "metadata": {},
   "source": [
    "Even after some minor hyperparameter searching, the neural network still performs poorly with the embeddings I used. This goes to show that the quality of input matters just as much as the model predicting the output. My best guess to improve the input quality is to use a higher quality pre-trained embedding from online, as opposed to a \"word2vectorization\" of the words in the politeness dataset."
   ]
  }
 ],
 "metadata": {
  "kernelspec": {
   "display_name": "Python 3",
   "language": "python",
   "name": "python3"
  },
  "language_info": {
   "codemirror_mode": {
    "name": "ipython",
    "version": 3
   },
   "file_extension": ".py",
   "mimetype": "text/x-python",
   "name": "python",
   "nbconvert_exporter": "python",
   "pygments_lexer": "ipython3",
   "version": "3.11.5"
  },
  "orig_nbformat": 4
 },
 "nbformat": 4,
 "nbformat_minor": 2
}
